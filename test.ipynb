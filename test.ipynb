{
 "cells": [
  {
   "cell_type": "code",
   "execution_count": 13,
   "metadata": {},
   "outputs": [
    {
     "name": "stdout",
     "output_type": "stream",
     "text": [
      "[array([[-0.07562065,  0.93678699],\n",
      "       [-0.435209  , -0.20764221],\n",
      "       [-2.0966116 ,  0.60900246]]), array([[-0.51810826, -0.02900577,  1.24805346],\n",
      "       [ 1.28426819, -1.42623375,  0.45987411],\n",
      "       [ 2.54089303,  1.83703682, -0.15746448],\n",
      "       [ 1.14760489,  0.62266334,  1.28817124]])]\n",
      "[array([[-1.49903447],\n",
      "       [ 1.07071075],\n",
      "       [-0.92327858]]), array([[-1.4800364 ],\n",
      "       [-0.30315517],\n",
      "       [-0.11569661],\n",
      "       [ 0.6317213 ]])]\n"
     ]
    }
   ],
   "source": [
    "import numpy as np\n",
    "import pandas as pd\n",
    "sizes=[2, 3, 4]\n",
    "t = [np.random.randn(y, x) for x, y in zip(sizes[:-1], sizes[1:])]\n",
    "pd.DataFrame(t).shape\n",
    "print(t)\n",
    "t2 = [np.random.randn(y, 1) for y in sizes[1:]]\n",
    "print(t2)"
   ]
  },
  {
   "cell_type": "code",
   "execution_count": null,
   "metadata": {},
   "outputs": [],
   "source": []
  }
 ],
 "metadata": {
  "kernelspec": {
   "display_name": "Python 3",
   "language": "python",
   "name": "python3"
  },
  "language_info": {
   "codemirror_mode": {
    "name": "ipython",
    "version": 3
   },
   "file_extension": ".py",
   "mimetype": "text/x-python",
   "name": "python",
   "nbconvert_exporter": "python",
   "pygments_lexer": "ipython3",
   "version": "3.8.5"
  }
 },
 "nbformat": 4,
 "nbformat_minor": 4
}
